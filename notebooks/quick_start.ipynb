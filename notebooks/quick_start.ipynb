{
  "cells": [
    {
      "cell_type": "code",
      "execution_count": 1,
      "metadata": {
        "collapsed": true,
        "pycharm": {
          "is_executing": false
        }
      },
      "outputs": [],
      "source": "%load_ext autoreload\n%autoreload 2\n"
    },
    {
      "cell_type": "code",
      "execution_count": 2,
      "outputs": [],
      "source": "import os\nos.chdir(\u0027/home/maksym/advbench\u0027)\n# TODO: a temporary hack. Later on rather use `pip install`.\n\n",
      "metadata": {
        "pycharm": {
          "metadata": false,
          "name": "#%%\n",
          "is_executing": false
        }
      }
    },
    {
      "cell_type": "markdown",
      "source": "First install **`AdvBench`**:\n\n",
      "metadata": {
        "pycharm": {
          "metadata": false
        }
      }
    },
    {
      "cell_type": "code",
      "execution_count": 3,
      "outputs": [],
      "source": "# !pip install -q git+https://github.com/fra31/advbench\n# !pip install -q -r torch\u003d\u003d1.4.0 requests \n# TODO: [later] install should be done with pip ideally\n\n",
      "metadata": {
        "pycharm": {
          "metadata": false,
          "name": "#%%\n",
          "is_executing": false
        }
      }
    },
    {
      "cell_type": "markdown",
      "source": "Now let\u0027s try to restore the most robust model from [Carmon2019Unlabeled](https://arxiv.org/abs/1905.13736) that \nachieves 59.50% evaluated with AA+:\n\n",
      "metadata": {
        "pycharm": {
          "metadata": false,
          "name": "#%% md\n",
          "is_executing": false
        }
      }
    },
    {
      "cell_type": "code",
      "execution_count": 9,
      "outputs": [
        {
          "name": "stdout",
          "text": [
            "Files already downloaded and verified\n",
            "Clean accuracy: 92.00%\n"
          ],
          "output_type": "stream"
        }
      ],
      "source": "from data import load_cifar10\nfrom utils import load_model, clean_accuracy\n\nx_test, y_test \u003d load_cifar10(n_examples\u003d50)\nmodel \u003d load_model(model_name\u003d\u0027Carmon2019Unlabeled\u0027).cuda().eval()\n\nacc \u003d clean_accuracy(model\u003dmodel, x\u003dx_test, y\u003dy_test)\nprint(\u0027Clean accuracy: {:.2%}\u0027.format(acc))\n\n",
      "metadata": {
        "pycharm": {
          "metadata": false,
          "name": "#%%\n",
          "is_executing": false
        }
      }
    },
    {
      "cell_type": "markdown",
      "source": "92% clean accuracy is quite reasonable which means that we have restored the model successfully!\n\nNow let\u0027s try to evaluate its robustness with a cheap version [AutoAttack](https://arxiv.org/abs/2003.01690) from \nICML\u002720 with 2/4 attacks (only A-PGD-CE and A-PGD-DLR):\n\n",
      "metadata": {
        "pycharm": {
          "metadata": false,
          "name": "#%% md\n"
        }
      }
    },
    {
      "cell_type": "code",
      "execution_count": 13,
      "outputs": [
        {
          "name": "stdout",
          "text": [
            "initial accuracy: 92.00%\n",
            "apgd-ce - 1/1 - 19 out of 46 successfully perturbed\nrobust accuracy after APGD-CE: 54.00% (total time 10.3 s)\n",
            "apgd-dlr - 1/1 - 1 out of 27 successfully perturbed\nrobust accuracy after APGD-DLR: 52.00% (total time 17.0 s)\nmax Linf perturbation: 0.03137, nan in tensor: 0, max: 1.00000, min: 0.00000\nrobust accuracy: 52.00%\n"
          ],
          "output_type": "stream"
        }
      ],
      "source": "from attacks.autoattack import AutoAttack\nadversary \u003d AutoAttack(model, norm\u003d\u0027Linf\u0027, eps\u003d8/255, plus\u003dFalse, attacks_to_run\u003d[\u0027apgd-ce\u0027, \u0027apgd-dlr\u0027])\nadversary.cheap()\nx_adv \u003d adversary.run_standard_evaluation(x_test, y_test)\n\n",
      "metadata": {
        "pycharm": {
          "metadata": false,
          "name": "#%%\n",
          "is_executing": false
        }
      }
    },
    {
      "cell_type": "markdown",
      "source": "Note that for our standardized evaluation of Linf-robustness we use the *full* version of AutoAttack which is slower but \nmore accurate (for that just use `adversary \u003d AutoAttack(model, norm\u003d\u0027Linf\u0027, eps\u003d8/255, plus\u003dFalse)`).\n\nYou can also easily plug in any existing library with adversarial attacks such as [FoolBox](https://github.com/bethgelab/foolbox):\n\n",
      "metadata": {
        "pycharm": {
          "metadata": false,
          "name": "#%% md\n"
        }
      }
    },
    {
      "cell_type": "code",
      "execution_count": 14,
      "outputs": [
        {
          "name": "stdout",
          "text": [
            "\u001b[33mYou are using pip version 18.1, however version 20.2 is available.\r\nYou should consider upgrading via the \u0027pip install --upgrade pip\u0027 command.\u001b[0m\r\n"
          ],
          "output_type": "stream"
        }
      ],
      "source": "# !pip install -q foolbox \n\n",
      "metadata": {
        "pycharm": {
          "metadata": false,
          "name": "#%%\n",
          "is_executing": false
        }
      }
    },
    {
      "cell_type": "code",
      "execution_count": 15,
      "outputs": [
        {
          "evalue": "invalid syntax (tensor.py, line 544)",
          "traceback": [
            "Traceback \u001b[0;36m(most recent call last)\u001b[0m:\n",
            "  File \u001b[1;32m\"/home/maksym/env/lib/python3.5/site-packages/IPython/core/interactiveshell.py\"\u001b[0m, line \u001b[1;32m3267\u001b[0m, in \u001b[1;35mrun_code\u001b[0m\n    exec(code_obj, self.user_global_ns, self.user_ns)\n",
            "  File \u001b[1;32m\"\u003cipython-input-15-8453b2fa58bb\u003e\"\u001b[0m, line \u001b[1;32m1\u001b[0m, in \u001b[1;35m\u003cmodule\u003e\u001b[0m\n    import foolbox as fb\n",
            "  File \u001b[1;32m\"/home/maksym/env/lib/python3.5/site-packages/foolbox/__init__.py\"\u001b[0m, line \u001b[1;32m10\u001b[0m, in \u001b[1;35m\u003cmodule\u003e\u001b[0m\n    from . import devutils  # noqa: F401\n",
            "  File \u001b[1;32m\"/home/maksym/env/lib/python3.5/site-packages/foolbox/devutils.py\"\u001b[0m, line \u001b[1;32m2\u001b[0m, in \u001b[1;35m\u003cmodule\u003e\u001b[0m\n    import eagerpy as ep\n",
            "  File \u001b[1;32m\"/home/maksym/env/lib/python3.5/site-packages/eagerpy/__init__.py\"\u001b[0m, line \u001b[1;32m21\u001b[0m, in \u001b[1;35m\u003cmodule\u003e\u001b[0m\n    from .tensor import Tensor  # noqa: F401\n",
            "\u001b[0;36m  File \u001b[0;32m\"/home/maksym/env/lib/python3.5/site-packages/eagerpy/tensor/__init__.py\"\u001b[0;36m, line \u001b[0;32m1\u001b[0;36m, in \u001b[0;35m\u003cmodule\u003e\u001b[0;36m\u001b[0m\n\u001b[0;31m    from .tensor import Tensor  # noqa: F401\u001b[0m\n",
            "\u001b[0;36m  File \u001b[0;32m\"/home/maksym/env/lib/python3.5/site-packages/eagerpy/tensor/tensor.py\"\u001b[0;36m, line \u001b[0;32m544\u001b[0m\n\u001b[0;31m    **kwargs: Any,\u001b[0m\n\u001b[0m                 ^\u001b[0m\n\u001b[0;31mSyntaxError\u001b[0m\u001b[0;31m:\u001b[0m invalid syntax\n"
          ],
          "ename": "SyntaxError",
          "output_type": "error"
        }
      ],
      "source": "import foolbox as fb\nfmodel \u003d fb.PyTorchModel(model, bounds\u003d(0, 1))\n\n_, advs, success \u003d fb.attacks.LinfPGD()(fmodel, images, labels, epsilons\u003d[8/255])",
      "metadata": {
        "pycharm": {
          "metadata": false,
          "name": "#%% \n",
          "is_executing": false
        }
      }
    },
    {
      "cell_type": "code",
      "execution_count": null,
      "outputs": [],
      "source": "\n",
      "metadata": {
        "pycharm": {
          "metadata": false,
          "name": "#%%\n"
        }
      }
    }
  ],
  "metadata": {
    "language_info": {
      "codemirror_mode": {
        "name": "ipython",
        "version": 2
      },
      "file_extension": ".py",
      "mimetype": "text/x-python",
      "name": "python",
      "nbconvert_exporter": "python",
      "pygments_lexer": "ipython2",
      "version": "2.7.6"
    },
    "kernelspec": {
      "name": "python3",
      "language": "python",
      "display_name": "Python 3"
    }
  },
  "nbformat": 4,
  "nbformat_minor": 0
}