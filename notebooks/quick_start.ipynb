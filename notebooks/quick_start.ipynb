{
  "cells": [
    {
      "cell_type": "code",
      "execution_count": 1,
      "metadata": {
        "collapsed": true,
        "pycharm": {
          "is_executing": false
        }
      },
      "outputs": [],
      "source": "%load_ext autoreload\n%autoreload 2\n"
    },
    {
      "cell_type": "code",
      "execution_count": 2,
      "outputs": [],
      "source": "import os\nos.chdir(\u0027/home/maksym/advbench\u0027)\n# TODO: a temporary hack. Later on rather use `pip install`.\n\n",
      "metadata": {
        "pycharm": {
          "metadata": false,
          "name": "#%%\n",
          "is_executing": false
        }
      }
    },
    {
      "cell_type": "markdown",
      "source": "First install **`AdvBench`**:\n\n",
      "metadata": {
        "pycharm": {
          "metadata": false
        }
      }
    },
    {
      "cell_type": "code",
      "execution_count": null,
      "outputs": [],
      "source": "!pip install -q git+https://github.com/fra31/advbench\n!pip install -q -r torch\u003d\u003d1.4.0 requests \n\n",
      "metadata": {
        "pycharm": {
          "metadata": false,
          "name": "#%%\n"
        }
      }
    },
    {
      "cell_type": "markdown",
      "source": "Now let\u0027s see how many models are available in the **Model Zoo**:\n\n",
      "metadata": {
        "pycharm": {
          "metadata": false,
          "name": "#%% md\n"
        }
      }
    },
    {
      "cell_type": "code",
      "execution_count": 3,
      "outputs": [
        {
          "name": "stdout",
          "text": [
            "In total 9 models: odict_keys([\u0027Carmon2019Unlabeled\u0027, \u0027Sehwag2020Hydra\u0027, \u0027Wang2020Improving\u0027, \u0027Hendrycks2019Using\u0027, \u0027Rice2020Overfitting\u0027, \u0027Zhang2019Theoretically\u0027, \u0027Engstrom2019Robustness\u0027, \u0027Chen2020Adversarial\u0027, \u0027Huang2020Self\u0027])\n"
          ],
          "output_type": "stream"
        }
      ],
      "source": "from model_zoo.models import model_dicts\nmodels \u003d model_dicts.keys()\nprint(\u0027In total {} models: {}\u0027.format(len(models), models))\n\n",
      "metadata": {
        "pycharm": {
          "metadata": false,
          "name": "#%%\n",
          "is_executing": false
        }
      }
    },
    {
      "cell_type": "markdown",
      "source": "Now let\u0027s try to restore the most robust model from [Carmon2019Unlabeled](https://arxiv.org/abs/1905.13736) that \nachieves 59.50% evaluated with AA+:\n\n",
      "metadata": {
        "pycharm": {
          "metadata": false,
          "name": "#%% md\n",
          "is_executing": false
        }
      }
    },
    {
      "cell_type": "code",
      "execution_count": 4,
      "outputs": [
        {
          "name": "stdout",
          "text": [
            "Files already downloaded and verified\n",
            "Clean accuracy: 89.00%\n"
          ],
          "output_type": "stream"
        }
      ],
      "source": "from data import load_cifar10\nfrom utils import load_model, clean_accuracy\n\nx_test, y_test \u003d load_cifar10(n_examples\u003d100)\nmodel \u003d load_model(model_name\u003d\u0027Carmon2019Unlabeled\u0027).cuda().eval()\n\nacc \u003d clean_accuracy(model\u003dmodel, x\u003dx_test, y\u003dy_test, batch_size\u003d128)\nprint(\u0027Clean accuracy: {:.2%}\u0027.format(acc))\n\n",
      "metadata": {
        "pycharm": {
          "metadata": false,
          "name": "#%%\n",
          "is_executing": false
        }
      }
    },
    {
      "cell_type": "markdown",
      "source": "89% clean accuracy is quite reasonable which means that we have restored the model successfully! \\\nNow let\u0027s try to evaluate its robustness with a cheap version [AutoAttack](https://arxiv.org/abs/2003.01690) from \nICML\u002720 (we use the full version of AutoAttack for our standardized evaluation of Linf-robustness):\n\n",
      "metadata": {
        "pycharm": {
          "metadata": false,
          "name": "#%% md\n"
        }
      }
    },
    {
      "cell_type": "code",
      "execution_count": null,
      "outputs": [],
      "source": "from attacks.autoattack import AutoAttack\nadversary \u003d AutoAttack(model, norm\u003d\u0027Linf\u0027, eps\u003d8/255, plus\u003dFalse)\nadversary.cheap()\nx_adv \u003d adversary.run_standard_evaluation(x_test, y_test)\n\n",
      "metadata": {
        "pycharm": {
          "metadata": false,
          "name": "#%%\n",
          "is_executing": true
        }
      }
    },
    {
      "cell_type": "markdown",
      "source": "You can also easily plug in any existing library with adversarial attacks such as [FoolBox](https://github.com/bethgelab/foolbox):\n\n",
      "metadata": {
        "pycharm": {
          "metadata": false,
          "name": "#%% md\n"
        }
      }
    },
    {
      "cell_type": "code",
      "execution_count": null,
      "outputs": [],
      "source": "!pip install -q foolbox \n\n",
      "metadata": {
        "pycharm": {
          "metadata": false,
          "name": "#%%\n"
        }
      }
    },
    {
      "cell_type": "code",
      "execution_count": null,
      "outputs": [],
      "source": "import foolbox as fb\nfmodel \u003d fb.PyTorchModel(model, bounds\u003d(0, 1))\n\n_, advs, success \u003d fb.attacks.LinfPGD()(fmodel, images, labels, epsilons\u003d[8/255])\n",
      "metadata": {
        "pycharm": {
          "metadata": false,
          "name": "#%% \n"
        }
      }
    }
  ],
  "metadata": {
    "language_info": {
      "codemirror_mode": {
        "name": "ipython",
        "version": 2
      },
      "file_extension": ".py",
      "mimetype": "text/x-python",
      "name": "python",
      "nbconvert_exporter": "python",
      "pygments_lexer": "ipython2",
      "version": "2.7.6"
    },
    "kernelspec": {
      "name": "python3",
      "language": "python",
      "display_name": "Python 3"
    }
  },
  "nbformat": 4,
  "nbformat_minor": 0
}